{
  "nbformat": 4,
  "nbformat_minor": 0,
  "metadata": {
    "colab": {
      "name": "Copy of Sorting_Algorithms_In_Python.ipynb",
      "provenance": [],
      "collapsed_sections": []
    },
    "kernelspec": {
      "name": "python3",
      "display_name": "Python 3"
    }
  },
  "cells": [
    {
      "cell_type": "markdown",
      "metadata": {
        "id": "rqnOLA3dxjyk"
      },
      "source": [
        "# **Sorting Algorithms and codes written in python**\n",
        "\n",
        "This notebook have all the commonly used sorting algorithms used in programming . All these algo's are written in python language.\n",
        "\n",
        "### INPUT DATA\n",
        "\n",
        "  `input_list = [ 8, 2, 5, 1, 0, 2, 2, 4, 1, 10, 9]`\n",
        "\n",
        "  `sorted_list = [ 0, 1, 1, 2, 2, 2, 4, 5, 8, 9, 10]`\n",
        "\n",
        "### Using the functions\n",
        "\n",
        "  __sorted_list__ = __name_of_sorting__( __list_to_be_sorted__ )\n",
        "\n",
        "  eg: \n",
        "  \n",
        "      `sorted_list = insertion_sort( list )`\n",
        "\n",
        "\n",
        "\n"
      ]
    },
    {
      "cell_type": "markdown",
      "metadata": {
        "id": "E3XtnzGzxju7"
      },
      "source": [
        ""
      ]
    },
    {
      "cell_type": "markdown",
      "metadata": {
        "id": "lkyJu8UvLM5G"
      },
      "source": [
        "1. Implements the Insertion Sort in python"
      ]
    },
    {
      "cell_type": "code",
      "metadata": {
        "id": "iyTKPhPpLWY-"
      },
      "source": [
        "def insertion_sort(list):\n",
        "  for index in range(1,len(list)):\n",
        "    value = list[index]\n",
        "    i = index -1\n",
        "    while i >=0:\n",
        "      if value < list[i]:\n",
        "        list[i+1] = list[i]\n",
        "        list[i] = value\n",
        "        i = i -1\n",
        "      else:\n",
        "        break\n",
        "  return list"
      ],
      "execution_count": null,
      "outputs": []
    },
    {
      "cell_type": "markdown",
      "metadata": {
        "id": "H_kEoW5bLco-"
      },
      "source": [
        "2.Implements the Selection Sort in python"
      ]
    },
    {
      "cell_type": "code",
      "metadata": {
        "id": "elRYI537LgCZ"
      },
      "source": [
        "def selection_sort(list):\n",
        "  for i in range(len(list)):\n",
        "    min_pos = i\n",
        "    for j in range(i,len(list)):\n",
        "      if list[j]< list[min_pos]:\n",
        "        min_pos = j\n",
        "    \n",
        "    list[i],list[min_pos]=list[min_pos],list[i]\n",
        "\n",
        "  return list"
      ],
      "execution_count": null,
      "outputs": []
    },
    {
      "cell_type": "markdown",
      "metadata": {
        "id": "exOCshOcLjE2"
      },
      "source": [
        "3. Implements the Bubble Sort in python"
      ]
    },
    {
      "cell_type": "code",
      "metadata": {
        "id": "OOgQ7Q0JLmoW"
      },
      "source": [
        "#solution"
      ],
      "execution_count": null,
      "outputs": []
    },
    {
      "cell_type": "markdown",
      "metadata": {
        "id": "f2qCt6CJLtx3"
      },
      "source": [
        "4.Implements the Quick Sort in python"
      ]
    },
    {
      "cell_type": "code",
      "metadata": {
        "id": "Zu1xpRqSLxty"
      },
      "source": [
        "def quick_sort(list):\n",
        "  from random import randint\n",
        "\n",
        "  if len(list) <=1:\n",
        "    return list\n",
        "\n",
        "  pivot = list[randint(0,len(list)-1)]\n",
        "\n",
        "  smaller,equal,larger = [],[],[]\n",
        "\n",
        "  for value in list:\n",
        "    if value < pivot: smaller.append(value)\n",
        "    elif value == pivot:  equal.append(value)\n",
        "    else: larger.append(value)\n",
        "\n",
        "  return quick_sort(smaller)+equal+quick_sort(larger)"
      ],
      "execution_count": null,
      "outputs": []
    },
    {
      "cell_type": "markdown",
      "metadata": {
        "id": "lCZjqaL2LzQY"
      },
      "source": [
        "\n",
        "\n",
        "\n",
        "5.Implements the Merge Sort in python"
      ]
    },
    {
      "cell_type": "code",
      "metadata": {
        "id": "rn90TmRBhTF6"
      },
      "source": [
        "def merge_sort(arr):\n",
        "  if len(arr) <=1:\n",
        "    return arr\n",
        "  \n",
        "  mid_post = len(arr) // 2\n",
        "\n",
        "  left_array , right_array = merge_sort(arr[:mid_point]), merge_sort(arr[mid_point:])\n",
        "\n",
        "  return merge(left_array,right_array)\n",
        "\n",
        "def merge(left,right):\n",
        "  result = []\n",
        "  #i - left_index    j - right_index\n",
        "  i = j = 0\n",
        "\n",
        "  if left[i] < right[j]:\n",
        "    result.append(left[i])\n",
        "    i += 1\n",
        "  elif left[i] == right [j]:\n",
        "    result.append(right[j])\n",
        "    j += 1\n",
        "  else:\n",
        "    result.append(left[i])\n",
        "    result.append(right[j])\n",
        "\n",
        "    i += 1\n",
        "    j += 1\n",
        "  \n",
        "  result.extend(left[i:])\n",
        "  result.extend(right[j:])\n",
        "\n",
        "  return result"
      ],
      "execution_count": null,
      "outputs": []
    },
    {
      "cell_type": "markdown",
      "metadata": {
        "id": "mz5n6354hVGv"
      },
      "source": [
        "6. Implements the Count Sort in python"
      ]
    },
    {
      "cell_type": "code",
      "metadata": {
        "id": "qLxbZMoChmNn"
      },
      "source": [
        "#solution"
      ],
      "execution_count": null,
      "outputs": []
    },
    {
      "cell_type": "markdown",
      "metadata": {
        "id": "V_f3nejkhoaf"
      },
      "source": [
        "7.Implements the Bucket Sort in python"
      ]
    },
    {
      "cell_type": "code",
      "metadata": {
        "id": "AfF8eRWghraX"
      },
      "source": [
        "#solution"
      ],
      "execution_count": null,
      "outputs": []
    },
    {
      "cell_type": "markdown",
      "metadata": {
        "id": "HPfWMqBahuRg"
      },
      "source": [
        "8.Implements the Radix Sort in python"
      ]
    },
    {
      "cell_type": "code",
      "metadata": {
        "id": "GAItqRXziauP"
      },
      "source": [
        "#solution"
      ],
      "execution_count": null,
      "outputs": []
    },
    {
      "cell_type": "markdown",
      "metadata": {
        "id": "zdHk4yGoiczV"
      },
      "source": [
        "9. Implements the Heap Sort in python"
      ]
    },
    {
      "cell_type": "markdown",
      "metadata": {
        "id": "1OtdQfudintF"
      },
      "source": [
        "10.Implements the Tim Sort in python"
      ]
    }
  ]
}